{
  "nbformat": 4,
  "nbformat_minor": 0,
  "metadata": {
    "colab": {
      "name": "data602_assignment6.ipynb",
      "provenance": [],
      "collapsed_sections": []
    },
    "kernelspec": {
      "name": "python3",
      "display_name": "Python 3"
    },
    "language_info": {
      "name": "python"
    }
  },
  "cells": [
    {
      "cell_type": "markdown",
      "metadata": {
        "id": "tOTSg67IwwKn"
      },
      "source": [
        "**objective:**\n",
        "\n",
        "\n",
        "1.   creating Modelling pipelines which can be used by Logistic Regression Model to perform predictions wheather a person has diabetes or not.\n",
        "2.   Comapre prepared Model with added regularization methods and various solvers \n",
        "3. Evalutaing the models using a metric.\n",
        "\n",
        "\n"
      ]
    },
    {
      "cell_type": "markdown",
      "metadata": {
        "id": "7yHxNAROWIP1"
      },
      "source": [
        "Importing the necessary libraries.\n"
      ]
    },
    {
      "cell_type": "code",
      "metadata": {
        "id": "CwVgCL2dDlLD"
      },
      "source": [
        "import pandas as pd\n",
        "import numpy as np\n",
        "import matplotlib.pyplot as plt\n",
        "import seaborn as sns\n",
        "from sklearn.pipeline import Pipeline\n",
        "from sklearn.impute import SimpleImputer\n",
        "from sklearn.preprocessing import StandardScaler\n",
        "from sklearn.linear_model import LogisticRegression"
      ],
      "execution_count": 1,
      "outputs": []
    },
    {
      "cell_type": "code",
      "metadata": {
        "id": "p4LcdwQrcztr"
      },
      "source": [
        "import warnings\n",
        "warnings.filterwarnings(\"ignore\", category=FutureWarning)"
      ],
      "execution_count": 2,
      "outputs": []
    },
    {
      "cell_type": "code",
      "metadata": {
        "colab": {
          "base_uri": "https://localhost:8080/"
        },
        "id": "I1S3yl8MEncv",
        "outputId": "0563e717-8d79-4c13-cfe4-912a19fab518"
      },
      "source": [
        "from google.colab import drive\n",
        "drive.mount('/content/drive')"
      ],
      "execution_count": 3,
      "outputs": [
        {
          "output_type": "stream",
          "name": "stdout",
          "text": [
            "Mounted at /content/drive\n"
          ]
        }
      ]
    },
    {
      "cell_type": "markdown",
      "metadata": {
        "id": "uUMwFFXgWRdS"
      },
      "source": [
        "Reading the csv data file."
      ]
    },
    {
      "cell_type": "code",
      "metadata": {
        "colab": {
          "base_uri": "https://localhost:8080/",
          "height": 431
        },
        "id": "KQiWNnPkFFah",
        "outputId": "7820fdbb-0dd6-49d6-b18c-f38df97b80d1"
      },
      "source": [
        "data = pd.read_csv('/content/pima_indian_data (2).csv')\n",
        "data"
      ],
      "execution_count": 6,
      "outputs": [
        {
          "output_type": "execute_result",
          "data": {
            "text/html": [
              "<div>\n",
              "<style scoped>\n",
              "    .dataframe tbody tr th:only-of-type {\n",
              "        vertical-align: middle;\n",
              "    }\n",
              "\n",
              "    .dataframe tbody tr th {\n",
              "        vertical-align: top;\n",
              "    }\n",
              "\n",
              "    .dataframe thead th {\n",
              "        text-align: right;\n",
              "    }\n",
              "</style>\n",
              "<table border=\"1\" class=\"dataframe\">\n",
              "  <thead>\n",
              "    <tr style=\"text-align: right;\">\n",
              "      <th></th>\n",
              "      <th>Number  of times pregnant</th>\n",
              "      <th>Plasma glucose</th>\n",
              "      <th>Diastolic blood pressure</th>\n",
              "      <th>Triceps skinfold thickness</th>\n",
              "      <th>serum insulin</th>\n",
              "      <th>Body mass index</th>\n",
              "      <th>Diabetes pedigree function</th>\n",
              "      <th>Age</th>\n",
              "      <th>Class</th>\n",
              "    </tr>\n",
              "  </thead>\n",
              "  <tbody>\n",
              "    <tr>\n",
              "      <th>0</th>\n",
              "      <td>6</td>\n",
              "      <td>148</td>\n",
              "      <td>72</td>\n",
              "      <td>35</td>\n",
              "      <td>0</td>\n",
              "      <td>33.6</td>\n",
              "      <td>0.627</td>\n",
              "      <td>50</td>\n",
              "      <td>1</td>\n",
              "    </tr>\n",
              "    <tr>\n",
              "      <th>1</th>\n",
              "      <td>1</td>\n",
              "      <td>85</td>\n",
              "      <td>66</td>\n",
              "      <td>29</td>\n",
              "      <td>0</td>\n",
              "      <td>26.6</td>\n",
              "      <td>0.351</td>\n",
              "      <td>31</td>\n",
              "      <td>0</td>\n",
              "    </tr>\n",
              "    <tr>\n",
              "      <th>2</th>\n",
              "      <td>8</td>\n",
              "      <td>183</td>\n",
              "      <td>64</td>\n",
              "      <td>0</td>\n",
              "      <td>0</td>\n",
              "      <td>23.3</td>\n",
              "      <td>0.672</td>\n",
              "      <td>32</td>\n",
              "      <td>1</td>\n",
              "    </tr>\n",
              "    <tr>\n",
              "      <th>3</th>\n",
              "      <td>1</td>\n",
              "      <td>89</td>\n",
              "      <td>66</td>\n",
              "      <td>23</td>\n",
              "      <td>94</td>\n",
              "      <td>28.1</td>\n",
              "      <td>0.167</td>\n",
              "      <td>21</td>\n",
              "      <td>0</td>\n",
              "    </tr>\n",
              "    <tr>\n",
              "      <th>4</th>\n",
              "      <td>0</td>\n",
              "      <td>137</td>\n",
              "      <td>40</td>\n",
              "      <td>35</td>\n",
              "      <td>168</td>\n",
              "      <td>43.1</td>\n",
              "      <td>2.288</td>\n",
              "      <td>33</td>\n",
              "      <td>1</td>\n",
              "    </tr>\n",
              "    <tr>\n",
              "      <th>...</th>\n",
              "      <td>...</td>\n",
              "      <td>...</td>\n",
              "      <td>...</td>\n",
              "      <td>...</td>\n",
              "      <td>...</td>\n",
              "      <td>...</td>\n",
              "      <td>...</td>\n",
              "      <td>...</td>\n",
              "      <td>...</td>\n",
              "    </tr>\n",
              "    <tr>\n",
              "      <th>763</th>\n",
              "      <td>10</td>\n",
              "      <td>101</td>\n",
              "      <td>76</td>\n",
              "      <td>48</td>\n",
              "      <td>180</td>\n",
              "      <td>32.9</td>\n",
              "      <td>0.171</td>\n",
              "      <td>63</td>\n",
              "      <td>0</td>\n",
              "    </tr>\n",
              "    <tr>\n",
              "      <th>764</th>\n",
              "      <td>2</td>\n",
              "      <td>122</td>\n",
              "      <td>70</td>\n",
              "      <td>27</td>\n",
              "      <td>0</td>\n",
              "      <td>36.8</td>\n",
              "      <td>0.340</td>\n",
              "      <td>27</td>\n",
              "      <td>0</td>\n",
              "    </tr>\n",
              "    <tr>\n",
              "      <th>765</th>\n",
              "      <td>5</td>\n",
              "      <td>121</td>\n",
              "      <td>72</td>\n",
              "      <td>23</td>\n",
              "      <td>112</td>\n",
              "      <td>26.2</td>\n",
              "      <td>0.245</td>\n",
              "      <td>30</td>\n",
              "      <td>0</td>\n",
              "    </tr>\n",
              "    <tr>\n",
              "      <th>766</th>\n",
              "      <td>1</td>\n",
              "      <td>126</td>\n",
              "      <td>60</td>\n",
              "      <td>0</td>\n",
              "      <td>0</td>\n",
              "      <td>30.1</td>\n",
              "      <td>0.349</td>\n",
              "      <td>47</td>\n",
              "      <td>1</td>\n",
              "    </tr>\n",
              "    <tr>\n",
              "      <th>767</th>\n",
              "      <td>1</td>\n",
              "      <td>93</td>\n",
              "      <td>70</td>\n",
              "      <td>31</td>\n",
              "      <td>0</td>\n",
              "      <td>30.4</td>\n",
              "      <td>0.315</td>\n",
              "      <td>23</td>\n",
              "      <td>0</td>\n",
              "    </tr>\n",
              "  </tbody>\n",
              "</table>\n",
              "<p>768 rows × 9 columns</p>\n",
              "</div>"
            ],
            "text/plain": [
              "     Number  of times pregnant  Plasma glucose  ...  Age  Class\n",
              "0                            6             148  ...   50      1\n",
              "1                            1              85  ...   31      0\n",
              "2                            8             183  ...   32      1\n",
              "3                            1              89  ...   21      0\n",
              "4                            0             137  ...   33      1\n",
              "..                         ...             ...  ...  ...    ...\n",
              "763                         10             101  ...   63      0\n",
              "764                          2             122  ...   27      0\n",
              "765                          5             121  ...   30      0\n",
              "766                          1             126  ...   47      1\n",
              "767                          1              93  ...   23      0\n",
              "\n",
              "[768 rows x 9 columns]"
            ]
          },
          "metadata": {},
          "execution_count": 6
        }
      ]
    },
    {
      "cell_type": "markdown",
      "metadata": {
        "id": "yRrYug2_KRzd"
      },
      "source": [
        "\n",
        "\n",
        "1.   There are 768 rows in the dataset.\n",
        "2.   There are 9 columns in the dataset.\n",
        "\n"
      ]
    },
    {
      "cell_type": "code",
      "metadata": {
        "colab": {
          "base_uri": "https://localhost:8080/",
          "height": 311
        },
        "id": "bdAMa7HVFdJ4",
        "outputId": "2753cd20-e98a-47f5-e771-59a5295c791c"
      },
      "source": [
        "data.describe()"
      ],
      "execution_count": 7,
      "outputs": [
        {
          "output_type": "execute_result",
          "data": {
            "text/html": [
              "<div>\n",
              "<style scoped>\n",
              "    .dataframe tbody tr th:only-of-type {\n",
              "        vertical-align: middle;\n",
              "    }\n",
              "\n",
              "    .dataframe tbody tr th {\n",
              "        vertical-align: top;\n",
              "    }\n",
              "\n",
              "    .dataframe thead th {\n",
              "        text-align: right;\n",
              "    }\n",
              "</style>\n",
              "<table border=\"1\" class=\"dataframe\">\n",
              "  <thead>\n",
              "    <tr style=\"text-align: right;\">\n",
              "      <th></th>\n",
              "      <th>Number  of times pregnant</th>\n",
              "      <th>Plasma glucose</th>\n",
              "      <th>Diastolic blood pressure</th>\n",
              "      <th>Triceps skinfold thickness</th>\n",
              "      <th>serum insulin</th>\n",
              "      <th>Body mass index</th>\n",
              "      <th>Diabetes pedigree function</th>\n",
              "      <th>Age</th>\n",
              "      <th>Class</th>\n",
              "    </tr>\n",
              "  </thead>\n",
              "  <tbody>\n",
              "    <tr>\n",
              "      <th>count</th>\n",
              "      <td>768.000000</td>\n",
              "      <td>768.000000</td>\n",
              "      <td>768.000000</td>\n",
              "      <td>768.000000</td>\n",
              "      <td>768.000000</td>\n",
              "      <td>768.000000</td>\n",
              "      <td>768.000000</td>\n",
              "      <td>768.000000</td>\n",
              "      <td>768.000000</td>\n",
              "    </tr>\n",
              "    <tr>\n",
              "      <th>mean</th>\n",
              "      <td>3.845052</td>\n",
              "      <td>120.894531</td>\n",
              "      <td>69.105469</td>\n",
              "      <td>20.536458</td>\n",
              "      <td>79.799479</td>\n",
              "      <td>31.992578</td>\n",
              "      <td>0.471876</td>\n",
              "      <td>33.240885</td>\n",
              "      <td>0.348958</td>\n",
              "    </tr>\n",
              "    <tr>\n",
              "      <th>std</th>\n",
              "      <td>3.369578</td>\n",
              "      <td>31.972618</td>\n",
              "      <td>19.355807</td>\n",
              "      <td>15.952218</td>\n",
              "      <td>115.244002</td>\n",
              "      <td>7.884160</td>\n",
              "      <td>0.331329</td>\n",
              "      <td>11.760232</td>\n",
              "      <td>0.476951</td>\n",
              "    </tr>\n",
              "    <tr>\n",
              "      <th>min</th>\n",
              "      <td>0.000000</td>\n",
              "      <td>0.000000</td>\n",
              "      <td>0.000000</td>\n",
              "      <td>0.000000</td>\n",
              "      <td>0.000000</td>\n",
              "      <td>0.000000</td>\n",
              "      <td>0.078000</td>\n",
              "      <td>21.000000</td>\n",
              "      <td>0.000000</td>\n",
              "    </tr>\n",
              "    <tr>\n",
              "      <th>25%</th>\n",
              "      <td>1.000000</td>\n",
              "      <td>99.000000</td>\n",
              "      <td>62.000000</td>\n",
              "      <td>0.000000</td>\n",
              "      <td>0.000000</td>\n",
              "      <td>27.300000</td>\n",
              "      <td>0.243750</td>\n",
              "      <td>24.000000</td>\n",
              "      <td>0.000000</td>\n",
              "    </tr>\n",
              "    <tr>\n",
              "      <th>50%</th>\n",
              "      <td>3.000000</td>\n",
              "      <td>117.000000</td>\n",
              "      <td>72.000000</td>\n",
              "      <td>23.000000</td>\n",
              "      <td>30.500000</td>\n",
              "      <td>32.000000</td>\n",
              "      <td>0.372500</td>\n",
              "      <td>29.000000</td>\n",
              "      <td>0.000000</td>\n",
              "    </tr>\n",
              "    <tr>\n",
              "      <th>75%</th>\n",
              "      <td>6.000000</td>\n",
              "      <td>140.250000</td>\n",
              "      <td>80.000000</td>\n",
              "      <td>32.000000</td>\n",
              "      <td>127.250000</td>\n",
              "      <td>36.600000</td>\n",
              "      <td>0.626250</td>\n",
              "      <td>41.000000</td>\n",
              "      <td>1.000000</td>\n",
              "    </tr>\n",
              "    <tr>\n",
              "      <th>max</th>\n",
              "      <td>17.000000</td>\n",
              "      <td>199.000000</td>\n",
              "      <td>122.000000</td>\n",
              "      <td>99.000000</td>\n",
              "      <td>846.000000</td>\n",
              "      <td>67.100000</td>\n",
              "      <td>2.420000</td>\n",
              "      <td>81.000000</td>\n",
              "      <td>1.000000</td>\n",
              "    </tr>\n",
              "  </tbody>\n",
              "</table>\n",
              "</div>"
            ],
            "text/plain": [
              "       Number  of times pregnant  Plasma glucose  ...         Age       Class\n",
              "count                 768.000000      768.000000  ...  768.000000  768.000000\n",
              "mean                    3.845052      120.894531  ...   33.240885    0.348958\n",
              "std                     3.369578       31.972618  ...   11.760232    0.476951\n",
              "min                     0.000000        0.000000  ...   21.000000    0.000000\n",
              "25%                     1.000000       99.000000  ...   24.000000    0.000000\n",
              "50%                     3.000000      117.000000  ...   29.000000    0.000000\n",
              "75%                     6.000000      140.250000  ...   41.000000    1.000000\n",
              "max                    17.000000      199.000000  ...   81.000000    1.000000\n",
              "\n",
              "[8 rows x 9 columns]"
            ]
          },
          "metadata": {},
          "execution_count": 7
        }
      ]
    },
    {
      "cell_type": "markdown",
      "metadata": {
        "id": "3rzaKPaBL5hC"
      },
      "source": [
        "Describe will only run on the features of numeric datatypes"
      ]
    },
    {
      "cell_type": "code",
      "metadata": {
        "colab": {
          "base_uri": "https://localhost:8080/"
        },
        "id": "Z1qDIon7F5Pb",
        "outputId": "0f78cf5b-1906-49d9-c604-780ac8677282"
      },
      "source": [
        "data.info()"
      ],
      "execution_count": 8,
      "outputs": [
        {
          "output_type": "stream",
          "name": "stdout",
          "text": [
            "<class 'pandas.core.frame.DataFrame'>\n",
            "RangeIndex: 768 entries, 0 to 767\n",
            "Data columns (total 9 columns):\n",
            " #   Column                      Non-Null Count  Dtype  \n",
            "---  ------                      --------------  -----  \n",
            " 0   Number  of times pregnant   768 non-null    int64  \n",
            " 1   Plasma glucose              768 non-null    int64  \n",
            " 2   Diastolic blood pressure    768 non-null    int64  \n",
            " 3   Triceps skinfold thickness  768 non-null    int64  \n",
            " 4   serum insulin               768 non-null    int64  \n",
            " 5   Body mass index             768 non-null    float64\n",
            " 6   Diabetes pedigree function  768 non-null    float64\n",
            " 7   Age                         768 non-null    int64  \n",
            " 8   Class                       768 non-null    int64  \n",
            "dtypes: float64(2), int64(7)\n",
            "memory usage: 54.1 KB\n"
          ]
        }
      ]
    },
    {
      "cell_type": "markdown",
      "metadata": {
        "id": "EQAlrEmWLSf4"
      },
      "source": [
        "From the above info we can see that there are many non-null values and we can also observe that there are only int and float data types."
      ]
    },
    {
      "cell_type": "code",
      "metadata": {
        "colab": {
          "base_uri": "https://localhost:8080/"
        },
        "id": "lK9uQQJuF9Yf",
        "outputId": "f5b27a74-a475-41a4-af6e-a91cc559c0ae"
      },
      "source": [
        "data.isnull().sum()"
      ],
      "execution_count": 9,
      "outputs": [
        {
          "output_type": "execute_result",
          "data": {
            "text/plain": [
              "Number  of times pregnant     0\n",
              "Plasma glucose                0\n",
              "Diastolic blood pressure      0\n",
              "Triceps skinfold thickness    0\n",
              "serum insulin                 0\n",
              "Body mass index               0\n",
              "Diabetes pedigree function    0\n",
              "Age                           0\n",
              "Class                         0\n",
              "dtype: int64"
            ]
          },
          "metadata": {},
          "execution_count": 9
        }
      ]
    },
    {
      "cell_type": "markdown",
      "metadata": {
        "id": "dQvPHsiHL3jg"
      },
      "source": [
        "# There are no null values in the dataset. The data also have numerics like integer and float values so there is no purpose of preprocessing of data as the data is good."
      ]
    },
    {
      "cell_type": "markdown",
      "metadata": {
        "id": "jsp6LgL4MYgc"
      },
      "source": [
        "checking correlation between the columns"
      ]
    },
    {
      "cell_type": "code",
      "metadata": {
        "colab": {
          "base_uri": "https://localhost:8080/",
          "height": 633
        },
        "id": "oWlYaNVGGbuF",
        "outputId": "72beecdc-5a00-4c81-9c34-2fb350950825"
      },
      "source": [
        "# lets check for any correlation between the data\n",
        "plt.figure(figsize = (10,8))\n",
        "sns.heatmap(data.corr(), annot = True, cmap = \"coolwarm\")\n",
        "plt.title(\"----Correlation----\", size = 23, color = \"r\")\n",
        "plt.show()"
      ],
      "execution_count": 10,
      "outputs": [
        {
          "output_type": "display_data",
          "data": {
            "image/png": "[encoded data removed]",
            "text/plain": [
              "<Figure size 720x576 with 2 Axes>"
            ]
          },
          "metadata": {
            "needs_background": "light"
          }
        }
      ]
    },
    {
      "cell_type": "markdown",
      "metadata": {
        "id": "Ly3Tg1WSNyE_"
      },
      "source": [
        "## There is very less or no correlation between the data variables"
      ]
    },
    {
      "cell_type": "markdown",
      "metadata": {
        "id": "WXPz_lMGb74f"
      },
      "source": [
        "Plotting all the columns using histogram."
      ]
    },
    {
      "cell_type": "code",
      "metadata": {
        "colab": {
          "base_uri": "https://localhost:8080/",
          "height": 585
        },
        "id": "O6FzgNCrMPEy",
        "outputId": "c73323b0-8aac-483f-ab31-3f1c32adabf2"
      },
      "source": [
        "#plotting All columns by using Histogram\n",
        "data.hist(figsize = (15,8), color = \"g\")\n",
        "plt.tight_layout()\n",
        "plt.show()"
      ],
      "execution_count": null,
      "outputs": [
        {
          "output_type": "display_data",
          "data": {
            "image/png": "[encoded data removed]",
            "text/plain": [
              "<Figure size 1080x576 with 9 Axes>"
            ]
          },
          "metadata": {
            "needs_background": "light"
          }
        }
      ]
    },
    {
      "cell_type": "markdown",
      "metadata": {
        "id": "ZT8kcuRnUwk4"
      },
      "source": [
        "There don't appear to be any obvious data quality issues and few outliers.\n",
        "We'll need to standardize the features because they're all numerical but on different scales."
      ]
    },
    {
      "cell_type": "code",
      "metadata": {
        "colab": {
          "base_uri": "https://localhost:8080/",
          "height": 409
        },
        "id": "jCBg_96MQAYM",
        "outputId": "2f38673e-0ff5-4ce7-f73b-289fc6ec8f42"
      },
      "source": [
        "data.groupby([\"Number  of times pregnant\",\"Class\"])[\"Age\"].count().plot(figsize = (15,6), color = \"g\")\n",
        "plt.title(\"Grouping by Age factor\", size = 20, color = \"r\")\n",
        "plt.show()"
      ],
      "execution_count": 11,
      "outputs": [
        {
          "output_type": "display_data",
          "data": {
            "image/png": "[encoded data removed]",
            "text/plain": [
              "<Figure size 1080x432 with 1 Axes>"
            ]
          },
          "metadata": {
            "needs_background": "light"
          }
        }
      ]
    },
    {
      "cell_type": "code",
      "metadata": {
        "id": "4_FvUy-gOBlV"
      },
      "source": [
        "X = data.drop(columns=['Class'])\n",
        "y = data[\"Class\"]"
      ],
      "execution_count": 12,
      "outputs": []
    },
    {
      "cell_type": "markdown",
      "metadata": {
        "id": "fqM6Ioezs0tz"
      },
      "source": [
        "creating pipeline for scalar and modelling"
      ]
    },
    {
      "cell_type": "code",
      "metadata": {
        "id": "djxZ0qOYfGBn"
      },
      "source": [
        "\n",
        "num_pipeline = Pipeline([('impute_missing', SimpleImputer(strategy='median')),\n",
        "                           ('standardize_num', StandardScaler())\n",
        "                        ])\n",
        "modeling_pipeline = Pipeline([(\"processing_pipeline\", num_pipeline), ('regression', LogisticRegression())])"
      ],
      "execution_count": 13,
      "outputs": []
    },
    {
      "cell_type": "markdown",
      "metadata": {
        "id": "A8k_ADkAsRpH"
      },
      "source": [
        "Splitting the data into training/test.\n"
      ]
    },
    {
      "cell_type": "code",
      "metadata": {
        "id": "0EMcsh29RchN"
      },
      "source": [
        "from sklearn.model_selection import train_test_split\n",
        "X_train,x_test,y_train,y_test = train_test_split(X,y,test_size=0.2)"
      ],
      "execution_count": 14,
      "outputs": []
    },
    {
      "cell_type": "code",
      "metadata": {
        "colab": {
          "base_uri": "https://localhost:8080/"
        },
        "id": "mbjtMcapTmk4",
        "outputId": "12192eed-b406-451e-a5cf-3216c55410a8"
      },
      "source": [
        "print(f'Training sample: {X_train.shape[0]:,}')\n",
        "print(f'Test sample: {x_test.shape[0]:,}')"
      ],
      "execution_count": 15,
      "outputs": [
        {
          "output_type": "stream",
          "name": "stdout",
          "text": [
            "Training sample: 614\n",
            "Test sample: 154\n"
          ]
        }
      ]
    },
    {
      "cell_type": "code",
      "metadata": {
        "colab": {
          "base_uri": "https://localhost:8080/"
        },
        "id": "KZuM9qrmTsn6",
        "outputId": "3b393a9f-9db2-4fe1-ae5f-503338ff701e"
      },
      "source": [
        "print(f'Training sample: {y_train.shape[0]:,}')\n",
        "print(f'Test sample: {y_test.shape[0]:,}')"
      ],
      "execution_count": 16,
      "outputs": [
        {
          "output_type": "stream",
          "name": "stdout",
          "text": [
            "Training sample: 614\n",
            "Test sample: 154\n"
          ]
        }
      ]
    },
    {
      "cell_type": "markdown",
      "metadata": {
        "id": "VlLk2IfOVwIS"
      },
      "source": [
        "there are 614 training samples. \n",
        "there are 154 test samples. "
      ]
    },
    {
      "cell_type": "markdown",
      "metadata": {
        "id": "u_DT-GISWE7o"
      },
      "source": [
        "Logistic regression on the model:"
      ]
    },
    {
      "cell_type": "code",
      "metadata": {
        "id": "lzQUIM-wRl6e"
      },
      "source": [
        "\n",
        "logre=modeling_pipeline.fit(X_train,y_train)\n",
        "model  = logre.predict(x_test)"
      ],
      "execution_count": 17,
      "outputs": []
    },
    {
      "cell_type": "markdown",
      "metadata": {
        "id": "YUBeSvQuWNhB"
      },
      "source": [
        "#Metric Selected: Accuracy"
      ]
    },
    {
      "cell_type": "markdown",
      "metadata": {
        "id": "1HnI7cANRcDu"
      },
      "source": [
        "It is because accuarcy estimates the true positive vales i.e., it predicts 79.8% of the correct diabetic samples."
      ]
    },
    {
      "cell_type": "code",
      "metadata": {
        "colab": {
          "base_uri": "https://localhost:8080/"
        },
        "id": "lMnT9GEDS75N",
        "outputId": "4109095a-6d0a-43cf-c5f7-b0dd7b9c3cf7"
      },
      "source": [
        "from sklearn.metrics import accuracy_score,confusion_matrix,classification_report\n",
        "print(accuracy_score(model,y_test)*100)"
      ],
      "execution_count": 18,
      "outputs": [
        {
          "output_type": "stream",
          "name": "stdout",
          "text": [
            "79.87012987012987\n"
          ]
        }
      ]
    },
    {
      "cell_type": "markdown",
      "metadata": {
        "id": "jRrTnNEUWRyO"
      },
      "source": [
        "The accuracy of the model is 79.8"
      ]
    },
    {
      "cell_type": "markdown",
      "metadata": {
        "id": "YbLBZbY8WbZP"
      },
      "source": [
        "Classification report"
      ]
    },
    {
      "cell_type": "code",
      "metadata": {
        "colab": {
          "base_uri": "https://localhost:8080/"
        },
        "id": "p3QFNay0THgD",
        "outputId": "f9cad1a6-fe48-4cee-864c-d93af2a9c47d"
      },
      "source": [
        "print(classification_report(model,y_test))"
      ],
      "execution_count": 19,
      "outputs": [
        {
          "output_type": "stream",
          "name": "stdout",
          "text": [
            "              precision    recall  f1-score   support\n",
            "\n",
            "           0       0.88      0.85      0.87       118\n",
            "           1       0.56      0.64      0.60        36\n",
            "\n",
            "    accuracy                           0.80       154\n",
            "   macro avg       0.72      0.74      0.73       154\n",
            "weighted avg       0.81      0.80      0.80       154\n",
            "\n"
          ]
        }
      ]
    },
    {
      "cell_type": "code",
      "metadata": {
        "colab": {
          "base_uri": "https://localhost:8080/"
        },
        "id": "7dmjCPvLTK2G",
        "outputId": "ba0344da-1caa-4272-bd4d-cad958930430"
      },
      "source": [
        "from sklearn.metrics import confusion_matrix\n",
        "print(confusion_matrix(model,y_test))"
      ],
      "execution_count": 20,
      "outputs": [
        {
          "output_type": "stream",
          "name": "stdout",
          "text": [
            "[[100  18]\n",
            " [ 13  23]]\n"
          ]
        }
      ]
    },
    {
      "cell_type": "markdown",
      "metadata": {
        "id": "SI7UrB_Jf_lR"
      },
      "source": [
        "# Using 10 fold Grid search cross validation and saga as a solver"
      ]
    },
    {
      "cell_type": "code",
      "metadata": {
        "id": "k8nzp9CMcMWa"
      },
      "source": [
        "from sklearn.model_selection import GridSearchCV\n",
        "from sklearn.linear_model import LogisticRegression\n",
        "\n",
        "modeling_pipeline = modeling_pipeline = Pipeline([(\"processing_pipeline\", num_pipeline), ('regression', LogisticRegression(penalty = 'l2', solver='saga'))])\n",
        "param_grid = [{ 'regression__C':[0.1, 1, 10, 100, 1000]}]\n",
        "\n",
        "cv_result = GridSearchCV(estimator=modeling_pipeline, param_grid=param_grid, scoring='accuracy', cv=10, refit=True)\n",
        "cv_result = cv_result.fit(X_train, y_train)"
      ],
      "execution_count": 43,
      "outputs": []
    },
    {
      "cell_type": "code",
      "metadata": {
        "colab": {
          "base_uri": "https://localhost:8080/"
        },
        "id": "EmeBm1wH0ouJ",
        "outputId": "3f0463f9-a8b0-4e63-c062-6c87569fbba1"
      },
      "source": [
        "cv_result.best_score_"
      ],
      "execution_count": 44,
      "outputs": [
        {
          "output_type": "execute_result",
          "data": {
            "text/plain": [
              "0.7637228979375991"
            ]
          },
          "metadata": {},
          "execution_count": 44
        }
      ]
    },
    {
      "cell_type": "code",
      "metadata": {
        "colab": {
          "base_uri": "https://localhost:8080/"
        },
        "id": "fCv7s_UcQRvM",
        "outputId": "f8dbdbcc-ff43-4fae-a415-df7c1ed824f1"
      },
      "source": [
        "cv_result.best_estimator_"
      ],
      "execution_count": 45,
      "outputs": [
        {
          "output_type": "execute_result",
          "data": {
            "text/plain": [
              "Pipeline(memory=None,\n",
              "         steps=[('processing_pipeline',\n",
              "                 Pipeline(memory=None,\n",
              "                          steps=[('impute_missing',\n",
              "                                  SimpleImputer(add_indicator=False, copy=True,\n",
              "                                                fill_value=None,\n",
              "                                                missing_values=nan,\n",
              "                                                strategy='median', verbose=0)),\n",
              "                                 ('standardize_num',\n",
              "                                  StandardScaler(copy=True, with_mean=True,\n",
              "                                                 with_std=True))],\n",
              "                          verbose=False)),\n",
              "                ('regression',\n",
              "                 LogisticRegression(C=1, class_weight=None, dual=False,\n",
              "                                    fit_intercept=True, intercept_scaling=1,\n",
              "                                    l1_ratio=None, max_iter=100,\n",
              "                                    multi_class='auto', n_jobs=None,\n",
              "                                    penalty='l2', random_state=None,\n",
              "                                    solver='saga', tol=0.0001, verbose=0,\n",
              "                                    warm_start=False))],\n",
              "         verbose=False)"
            ]
          },
          "metadata": {},
          "execution_count": 45
        }
      ]
    },
    {
      "cell_type": "markdown",
      "metadata": {
        "id": "iSfAv_6oK98M"
      },
      "source": [
        "we've got *76.37* as the accuracy score for the logistic regrssion with added *weights*   "
      ]
    },
    {
      "cell_type": "markdown",
      "metadata": {
        "id": "DN63Mu3jgeGX"
      },
      "source": [
        "# We got tuned hpyerparameters :(best parameters)  {'C': 1, 'penalty': 'l2'} \n",
        "# accuracy : 76.37"
      ]
    },
    {
      "cell_type": "markdown",
      "metadata": {
        "id": "RVOP6g4qMGLg"
      },
      "source": [
        "# Using 10 fold Grid search cross validation and liblinear as a solver"
      ]
    },
    {
      "cell_type": "code",
      "metadata": {
        "id": "w7XjuAgzUE57"
      },
      "source": [
        "from sklearn.model_selection import GridSearchCV\n",
        "from sklearn.linear_model import LogisticRegression\n",
        "\n",
        "modeling_pipeline = modeling_pipeline = Pipeline([(\"processing_pipeline\", num_pipeline), ('regression', LogisticRegression(penalty = 'l2', solver='liblinear'))])\n",
        "param_grid = [{ 'regression__C':[0.1, 1, 10, 100, 1000]}]\n",
        "\n",
        "cv_result = GridSearchCV(estimator=modeling_pipeline, param_grid=param_grid, scoring='accuracy', cv=10, refit=True)\n",
        "cv_result = cv_result.fit(X_train, y_train)"
      ],
      "execution_count": 46,
      "outputs": []
    },
    {
      "cell_type": "code",
      "metadata": {
        "colab": {
          "base_uri": "https://localhost:8080/"
        },
        "id": "7d9zuMasQken",
        "outputId": "8487b8e5-0391-4d90-8bef-e461303a2425"
      },
      "source": [
        "cv_result.best_estimator_"
      ],
      "execution_count": 47,
      "outputs": [
        {
          "output_type": "execute_result",
          "data": {
            "text/plain": [
              "Pipeline(memory=None,\n",
              "         steps=[('processing_pipeline',\n",
              "                 Pipeline(memory=None,\n",
              "                          steps=[('impute_missing',\n",
              "                                  SimpleImputer(add_indicator=False, copy=True,\n",
              "                                                fill_value=None,\n",
              "                                                missing_values=nan,\n",
              "                                                strategy='median', verbose=0)),\n",
              "                                 ('standardize_num',\n",
              "                                  StandardScaler(copy=True, with_mean=True,\n",
              "                                                 with_std=True))],\n",
              "                          verbose=False)),\n",
              "                ('regression',\n",
              "                 LogisticRegression(C=1, class_weight=None, dual=False,\n",
              "                                    fit_intercept=True, intercept_scaling=1,\n",
              "                                    l1_ratio=None, max_iter=100,\n",
              "                                    multi_class='auto', n_jobs=None,\n",
              "                                    penalty='l2', random_state=None,\n",
              "                                    solver='liblinear', tol=0.0001, verbose=0,\n",
              "                                    warm_start=False))],\n",
              "         verbose=False)"
            ]
          },
          "metadata": {},
          "execution_count": 47
        }
      ]
    },
    {
      "cell_type": "code",
      "metadata": {
        "colab": {
          "base_uri": "https://localhost:8080/"
        },
        "id": "mV5_zfPeQoKw",
        "outputId": "1fc43ffb-7aad-43cb-e9ae-b585feb09a3b"
      },
      "source": [
        "cv_result.best_score_"
      ],
      "execution_count": 48,
      "outputs": [
        {
          "output_type": "execute_result",
          "data": {
            "text/plain": [
              "0.7653622421998942"
            ]
          },
          "metadata": {},
          "execution_count": 48
        }
      ]
    },
    {
      "cell_type": "code",
      "metadata": {
        "colab": {
          "base_uri": "https://localhost:8080/",
          "height": 279
        },
        "id": "krEEiwklR6Qb",
        "outputId": "e73922a2-dcd7-4c8c-e012-b51e5beb331c"
      },
      "source": [
        "from sklearn.metrics import roc_curve\n",
        "\n",
        "y_testpr = cv_result.predict_proba(x_test)\n",
        "\n",
        "def generate_roc(y, probs):\n",
        "    fpr, tpr, _ = roc_curve(y, probs)\n",
        "    return fpr, tpr\n",
        "    \n",
        "fpr_wgt, tpr_wgt = generate_roc(y_test, y_testpr[:,1])\n",
        "fpr_base, tpr_base = generate_roc(y_test, model[:])\n",
        "\n",
        "plt.plot(fpr_wgt, tpr_wgt,'-r')\n",
        "plt.plot(fpr_base, tpr_base,'--b')\n",
        "plt.xlabel('False Positive Rate')\n",
        "plt.ylabel('True Positive Rate')\n",
        "plt.legend(['Weighted Model','Unweighted Model'])\n",
        "plt.plot([0, 1], [0, 1], color='navy', linestyle='--')\n",
        "plt.show()\n"
      ],
      "execution_count": 53,
      "outputs": [
        {
          "output_type": "display_data",
          "data": {
            "image/png": "[encoded data removed]",
            "text/plain": [
              "<Figure size 432x288 with 1 Axes>"
            ]
          },
          "metadata": {
            "needs_background": "light"
          }
        }
      ]
    },
    {
      "cell_type": "markdown",
      "metadata": {
        "id": "fq--4laXQt9d"
      },
      "source": [
        "# We got tuned hpyerparameters :(best parameters)  {'C': 1, 'penalty': 'l2'} \n",
        "# accuracy : 76.53"
      ]
    },
    {
      "cell_type": "markdown",
      "metadata": {
        "id": "gc1HkEWPuvgc"
      },
      "source": [
        "#conclusions:\n",
        "the accuracy of the model was noticed to be 79.8 and  after performing the logestic regression with grid search cross-validation itis  76.53 using liblinear solver and 76.37 using saga solver. It can be concluded that the hyper parameter tuning doesn't improve the model.the accuracy of the model itself is higher.After performing the logestic regression with grid search cross-validation using both solvers it is noticed the the difference between accuracy of both models is almost the same."
      ]
    },
    {
      "cell_type": "code",
      "metadata": {
        "id": "4PTUPz1-RTw3"
      },
      "source": [
        ""
      ],
      "execution_count": null,
      "outputs": []
    }
  ]
}